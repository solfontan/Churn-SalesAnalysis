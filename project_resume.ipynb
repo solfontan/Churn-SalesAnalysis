{
 "cells": [
  {
   "cell_type": "markdown",
   "metadata": {},
   "source": [
    "4️⃣ Análisis exploratorio (EDA)\n",
    "\n",
    "Visualizaciones clave con insights.\n",
    "5️⃣ Hipótesis y validación\n",
    "\n",
    "Explicación de cada hipótesis con pruebas estadísticas o gráficas.\n",
    "6️⃣ Conclusiones\n",
    "\n",
    "Hallazgos clave y posibles aplicaciones del análisis."
   ]
  },
  {
   "cell_type": "markdown",
   "metadata": {},
   "source": [
    "### **1️⃣ Introducción**"
   ]
  },
  {
   "cell_type": "markdown",
   "metadata": {},
   "source": [
    "El dataset de abandono de clientes de telecomunicaciones contiene información sobre una empresa ficticia de telecomunicaciones que brindó servicios de telefonía fija e Internet a 7,043 clientes en California durante el tercer trimestre. El conjunto de datos indica qué clientes han dejado la empresa, cuáles se han mantenido y cuáles se han suscrito a sus servicios. Además, incluye diversas variables demográficas clave, junto con una puntuación de satisfacción, una puntuación de churn (probabilidad de abandono) y un índice de valor de vida del cliente (CLTV).\n",
    "\n",
    "> Objetivos del análisis.\n",
    "\n",
    "Este análisis exploratorio se centra en evaluar si ciertas variables, como el género, el método de pago y el tipo de contrato, tienen una influencia significativa en la tasa de abandono de clientes. Se analizarán patrones y tendencias en los datos sin realizar inferencias causales, con el objetivo de identificar posibles correlaciones y proporcionar información que pueda servir para estrategias futuras de retención de clientes."
   ]
  },
  {
   "cell_type": "markdown",
   "metadata": {},
   "source": [
    "### **2️⃣ . Procesamiento y Limpieza de Datos**\n",
    "\n",
    "Para llevar a cabo el análisis exploratorio sobre la relación entre el abandono de clientes y las variables **género, método de pago y tipo de contrato**, se realizó un proceso de limpieza y preparación de datos en seis archivos diferentes, asegurando la calidad y coherencia de la información antes de su análisis.\n",
    "\n",
    "- **Customer_Info.ipynb**: Se verificaron valores nulos e inconsistencias en variables como **PARTNER Y MARRIED** eliminando unos de los mismos, ya que eran exactamente iguales. Se aplicó un análisis univariante para identificar posibles valores atípicos y garantizar la validez de los datos.\n",
    "\n",
    "- **Location_Data.ipynb**: Se estandarizaron los nombres de ciudades, estados y códigos postales, eliminando posibles duplicados, errores en la geolocalización de los clientes y la cantidad poblacional que presentaban.\n",
    "\n",
    "- **Online_Services.ipynb**: Se revisó la coherencia en las suscripciones a servicios de telefonía e Internet, además de asegurar que las categorías de servicios adicionales (seguridad en línea, respaldo, protección de dispositivos, soporte técnico y streaming) estuvieran correctamente codificadas.\n",
    "\n",
    "- **Payment_Info.ipynb**: Se analizaron los métodos de pago y la estructura de facturación de cada cliente, detectando valores nulos en montos de cobro y reembolsos. Se estandarizaron las categorías de pago para evitar inconsistencias.\n",
    "\n",
    "- **Online_Options.ipynb**: Se verificó la duración del contrato (tenure), las referencias de clientes y el volumen de datos descargados, asegurando que los valores estuvieran dentro de rangos razonables y eliminando posibles valores atípicos.\n",
    "\n",
    "- **Status_Analysis.ipynb**: Se revisó la calidad de las variables de churn (abandono), satisfacción y estado del cliente. Se validó la coherencia entre las etiquetas de abandono y las puntuaciones predictivas de churn.\n",
    "\n",
    "Una vez finalizada la limpieza individual de cada archivo y realizado el análisis univariante correspondiente, los datasets fueron unificados en una única base de datos, asegurando la correcta vinculación mediante la variable CustomerID (**fusion_df.ipynb**). Este conjunto de datos limpio y estructurado fue posteriormente importado para su análisis exploratorio y evaluación de las variables clave en la predicción del abandono de clientes."
   ]
  },
  {
   "cell_type": "markdown",
   "metadata": {},
   "source": [
    "### **3️⃣ Análisis exploratorio (EDA)**"
   ]
  },
  {
   "cell_type": "markdown",
   "metadata": {},
   "source": [
    "En esta sección se encuentran los análisis y el tratamiento de limpieza realizados para el proyecto:\n",
    "\n",
    "##### - 📌 **Análisis del Perfil del Cliente:** [Ver análisis completo](Notebooks\\customer_info.ipynb)  \n",
    "##### - 🌍 **Distribución Geográfica de los Clientes:** [Explorar el análisis](Notebooks\\location_data.ipynb)  \n",
    "##### - 💳 **Impacto del Método de Pago en la Retención:** [Acceder al código](Notebooks\\payment_method.ipynb)  \n",
    "##### - 🔌 **Preferencias en los Servicios Contratados:** [Ver visualización](Notebooks\\online_services.ipynb)  \n",
    "##### - 📡 **Uso de Servicios Online y su Relación con el Churn:** [Ver visualización](Notebooks\\online_options.ipynb)  \n",
    "##### - 📉 **Análisis de la Tasa de Abandono de Clientes:** [Ver visualización](Notebooks\\status_analysis.ipynb)  \n"
   ]
  },
  {
   "cell_type": "markdown",
   "metadata": {},
   "source": [
    "### **4️⃣ Hipótesis y Validación del Dataset sobre Abandono del Servicio**  \n",
    "\n",
    "Este apartado presenta el análisis de hipótesis y la validación de los datos para identificar los factores que influyen en la cancelación del servicio por parte de los clientes. Se exploran diferentes variables como el método de pago, el estado civil, el monto total pagado y las preferencias de servicio, evaluando su impacto en la tasa de abandono."
   ]
  },
  {
   "cell_type": "markdown",
   "metadata": {},
   "source": []
  }
 ],
 "metadata": {
  "language_info": {
   "name": "python"
  }
 },
 "nbformat": 4,
 "nbformat_minor": 2
}
